{
 "cells": [
  {
   "cell_type": "markdown",
   "metadata": {
    "id": "ASZMAb_D043U"
   },
   "source": [
    "# Generating Simulated Deformation Events\n",
    "\n",
    "Simulated Deformation Events are modeled from a finite rectanglar source using the method from: Okada, Surface deformation due to shear and tensile faults in a half-space.\n",
    "\n",
    "Okada's Paper:  https://www.bosai.go.jp/e/pdf/Okada_1985_BSSA.pdf <br>\n",
    "Original Basis: https://github.com/matthew-gaddes/SyInterferoPy"
   ]
  },
  {
   "cell_type": "markdown",
   "metadata": {
    "id": "zPWSmv7V043X"
   },
   "source": [
    "### Imports"
   ]
  },
  {
   "cell_type": "code",
   "execution_count": 1,
   "metadata": {
    "cellView": "form",
    "colab": {
     "base_uri": "https://localhost:8080/"
    },
    "id": "TjqZnhbk0-dZ",
    "outputId": "2fc8e70a-720f-4cf9-a4e7-be1d5c9d2cd2",
    "tags": []
   },
   "outputs": [
    {
     "name": "stdout",
     "output_type": "stream",
     "text": [
      "Collecting git+https://github.com/pvigier/perlin-numpy\n",
      "  Cloning https://github.com/pvigier/perlin-numpy to /tmp/pip-req-build-zui8gk09\n",
      "  Running command git clone --filter=blob:none --quiet https://github.com/pvigier/perlin-numpy /tmp/pip-req-build-zui8gk09\n",
      "  Resolved https://github.com/pvigier/perlin-numpy to commit 5e26837db14042e51166eb6cad4c0df2c1907016\n",
      "  Preparing metadata (setup.py) ... \u001b[?25ldone\n",
      "\u001b[?25hRequirement already satisfied: geopy in /opt/conda/lib/python3.10/site-packages (2.3.0)\n",
      "Requirement already satisfied: geographiclib<3,>=1.52 in /opt/conda/lib/python3.10/site-packages (from geopy) (2.0)\n",
      "Requirement already satisfied: numpy>=1.15 in /home/jovyan/.local/lib/python3.10/site-packages (from perlin-numpy==0.0.0) (1.23.5)\n",
      "/home/jovyan/AI-Event-Monitoring\n"
     ]
    },
    {
     "data": {
      "text/plain": [
       "'/home/jovyan/AI-Event-Monitoring'"
      ]
     },
     "execution_count": 1,
     "metadata": {},
     "output_type": "execute_result"
    }
   ],
   "source": [
    "# @title\n",
    "!pip install geopy git+https://github.com/pvigier/perlin-numpy\n",
    "!pip install astropy\n",
    "%cd ..\n",
    "%pwd"
   ]
  },
  {
   "cell_type": "code",
   "execution_count": 2,
   "metadata": {
    "cellView": "form",
    "id": "iGOh7_Vt043Y",
    "tags": []
   },
   "outputs": [
    {
     "ename": "ModuleNotFoundError",
     "evalue": "No module named 'astropy'",
     "output_type": "error",
     "traceback": [
      "\u001b[0;31m---------------------------------------------------------------------------\u001b[0m",
      "\u001b[0;31mModuleNotFoundError\u001b[0m                       Traceback (most recent call last)",
      "Cell \u001b[0;32mIn [2], line 4\u001b[0m\n\u001b[1;32m      2\u001b[0m \u001b[38;5;28;01mimport\u001b[39;00m \u001b[38;5;21;01mnumpy\u001b[39;00m \u001b[38;5;28;01mas\u001b[39;00m \u001b[38;5;21;01mnp\u001b[39;00m\n\u001b[1;32m      3\u001b[0m \u001b[38;5;28;01mimport\u001b[39;00m \u001b[38;5;21;01mmatplotlib\u001b[39;00m\u001b[38;5;21;01m.\u001b[39;00m\u001b[38;5;21;01mpyplot\u001b[39;00m \u001b[38;5;28;01mas\u001b[39;00m \u001b[38;5;21;01mplt\u001b[39;00m\n\u001b[0;32m----> 4\u001b[0m \u001b[38;5;28;01mimport\u001b[39;00m \u001b[38;5;21;01mastropy\u001b[39;00m\n\u001b[1;32m      6\u001b[0m \u001b[38;5;28;01mfrom\u001b[39;00m \u001b[38;5;21;01minsar_eventnet\u001b[39;00m\u001b[38;5;21;01m.\u001b[39;00m\u001b[38;5;21;01msarsim\u001b[39;00m \u001b[38;5;28;01mimport\u001b[39;00m Okada, gen_gaussian_noise, coherence_mask_simulate, gen_simulated_deformation, gen_sim_noise, aps_simulate, gen_fake_topo, atm_topo_simulate\n\u001b[1;32m      8\u001b[0m plt\u001b[38;5;241m.\u001b[39mrcParams[\u001b[38;5;124m'\u001b[39m\u001b[38;5;124mfigure.figsize\u001b[39m\u001b[38;5;124m'\u001b[39m]\u001b[38;5;241m=\u001b[39m(\u001b[38;5;241m16\u001b[39m,\u001b[38;5;241m8\u001b[39m)\n",
      "\u001b[0;31mModuleNotFoundError\u001b[0m: No module named 'astropy'"
     ]
    }
   ],
   "source": [
    "# @title\n",
    "import numpy as np\n",
    "import matplotlib.pyplot as plt\n",
    "import astropy\n",
    "\n",
    "from insar_eventnet.sarsim import (\n",
    "    Okada,\n",
    "    gen_gaussian_noise,\n",
    "    coherence_mask_simulate,\n",
    "    gen_simulated_deformation,\n",
    "    gen_sim_noise,\n",
    "    aps_simulate,\n",
    "    gen_fake_topo,\n",
    "    atm_topo_simulate,\n",
    ")\n",
    "\n",
    "plt.rcParams[\"figure.figsize\"] = (16, 8)\n",
    "\n",
    "\n",
    "def display_two_images(unwrapped, wrapped):\n",
    "    fig, [axs_unwrapped, axs_wrapped] = plt.subplots(1, 2)\n",
    "\n",
    "    axs_unwrapped.set_title(\"Unwrapped\")\n",
    "    axs_wrapped.set_title(\"Wrapped\")\n",
    "\n",
    "    axs_unwrapped.imshow(unwrapped, cmap=\"jet\")\n",
    "    axs_wrapped.imshow(wrapped, cmap=\"jet\")\n",
    "\n",
    "\n",
    "def display_three_images(unwrapped, wrapped, masked):\n",
    "    fig, [axs_unwrapped, axs_wrapped, axs_masked] = plt.subplots(1, 3)\n",
    "\n",
    "    axs_unwrapped.set_title(\"Unwrapped\")\n",
    "    axs_wrapped.set_title(\"Wrapped\")\n",
    "    axs_masked.set_title(\"Mask\")\n",
    "\n",
    "    axs_unwrapped.imshow(unwrapped, cmap=\"jet\")\n",
    "    axs_wrapped.imshow(wrapped, cmap=\"jet\")\n",
    "    axs_masked.imshow(masked, cmap=\"jet\")"
   ]
  },
  {
   "cell_type": "markdown",
   "metadata": {
    "id": "kKosidLu043g"
   },
   "source": [
    "## Generate Event Manually\n",
    "\n",
    "The Okada Class allows you to manually generate simulated event's using a dict of parameters. The simulation is done using Okada's Surface Deformation Due to Shear and Tensile Faults in a Half-Space Model, assuming a finite rectangular source. The kwargs dict below highlights all of the necessary parameters.\n",
    "\n",
    "Ultimately, it's purpose for the EventNet project is to generate the line-of-sight displacement (self.los_displacement). But it also generates quite of bit of information that you may access:\n",
    "```python\n",
    "self.source_type\n",
    "self.source_x\n",
    "self.source_y\n",
    "self.tile_size\n",
    "self.params\n",
    "self.x_axis_shape\n",
    "self.y_axis_shape\n",
    "self.grid_x\n",
    "self.grid_y\n",
    "self.los_vector\n",
    "self.lames_mu       # μ\n",
    "self.lames_lambd    # λ\n",
    "self.nu             # ν (poisson ration)\n",
    "self.length\n",
    "self.strike\n",
    "self.dip            # δ\n",
    "self.opening\n",
    "self.slip\n",
    "self.rake\n",
    "self.width\n",
    "self.depth\n",
    "self.east\n",
    "self.north\n",
    "self.okada_x        # ξ\n",
    "self.okada_y\n",
    "self.d\n",
    "self.q\n",
    "self.eta            # η\n",
    "self.U1\n",
    "self.U2\n",
    "self.U3\n",
    "self.displacement\n",
    "self.los_displacement\n",
    "```"
   ]
  },
  {
   "cell_type": "markdown",
   "metadata": {
    "id": "R-m-Pd9BKlfr"
   },
   "source": [
    "### Setup Input Parameters"
   ]
  },
  {
   "cell_type": "code",
   "execution_count": null,
   "metadata": {
    "id": "ADc3z2H_KkKL"
   },
   "outputs": [],
   "source": [
    "seed = (\n",
    "    0  # 0 seed here means random atmospheric noise every time the function is called.\n",
    ")\n",
    "tile_size = 512\n",
    "event_type = \"quake\"\n",
    "\n",
    "source_x = 20000  # min_x, max_x is 0->45000 at (512, 512)\n",
    "source_y = 20000  # min_y, max_y is 0->45000 at (512, 512)\n",
    "\n",
    "kwargs = {\n",
    "    \"strike\": 180,  # for source_type 'quake'\n",
    "    \"dip\": 45,  # for source_type 'quake'\n",
    "    \"length\": 4000,  # for source_type 'quake'\n",
    "    \"rake\": 90,  # for source_type 'quake'\n",
    "    \"slip\": 2,  # for source_type 'quake'\n",
    "    \"top_depth\": 4000,  # for source_type 'quake'\n",
    "    \"bottom_depth\": 8000,  # for source_type 'quake'\n",
    "    \"width\": 2000,  # for source_type 'sill' and 'dyke'\n",
    "    \"depth\": 4000,  # for source_type 'sill' and 'dyke'\n",
    "    \"opening\": 0.5,  # for source_type 'sill' and 'dyke',\n",
    "    \"source_x\": source_x,\n",
    "    \"source_y\": source_y,\n",
    "}"
   ]
  },
  {
   "cell_type": "markdown",
   "metadata": {
    "id": "p9J8OMvi043g"
   },
   "source": [
    "#### Get Displacement and Amplify\n",
    "\n",
    "Since the model gives us line-of-sight displacement, the values are generally very low and won't even get close to wrapping around pi. Because of this, we need to scale the values for them to be useful for our purposes."
   ]
  },
  {
   "cell_type": "code",
   "execution_count": null,
   "metadata": {
    "colab": {
     "base_uri": "https://localhost:8080/",
     "height": 678
    },
    "id": "9kfL4DsI043g",
    "outputId": "e1ae3d39-9101-45b9-e83e-cbee862cbe32"
   },
   "outputs": [],
   "source": [
    "Event = Okada(event_type, (source_x, source_y), tile_size=tile_size, **kwargs)\n",
    "\n",
    "scalar = 100 * np.pi\n",
    "los_displacement = Event.los_displacement\n",
    "phase = scalar * los_displacement\n",
    "wrapped_phase = np.angle(np.exp(1j * (phase)))\n",
    "\n",
    "display_two_images(phase, wrapped_phase)"
   ]
  },
  {
   "cell_type": "markdown",
   "metadata": {
    "id": "1-59shlP043h"
   },
   "source": [
    "## Manually Add Simulated Noise and Error Sources\n",
    "\n",
    "Currently, there three primary types of error that are supported: turbulant atmospheric error, topographic atmospheric error, and guassian noise. Additionally, it is possible to generate masked areas of incoherence. \n",
    "\n",
    "### Static-Like Guassian Noise"
   ]
  },
  {
   "cell_type": "code",
   "execution_count": null,
   "metadata": {
    "colab": {
     "base_uri": "https://localhost:8080/",
     "height": 470
    },
    "id": "VWPNKFCp043h",
    "outputId": "f20f7d02-699c-44b6-c040-fc4ee81193ba"
   },
   "outputs": [],
   "source": [
    "seed = 0\n",
    "tile_size = 512\n",
    "noise_level = 0.5\n",
    "threshold = 0.5\n",
    "noise_grid = gen_gaussian_noise(\n",
    "    seed, tile_size, noise_level=noise_level, threshold=threshold\n",
    ")\n",
    "\n",
    "event_with_gaussian = noise_grid + phase\n",
    "\n",
    "gaussian_wrapped_grid = np.angle(np.exp(1j * (event_with_gaussian)))\n",
    "\n",
    "display_two_images(event_with_gaussian, gaussian_wrapped_grid)"
   ]
  },
  {
   "cell_type": "markdown",
   "metadata": {
    "id": "bS9QyYsK043j"
   },
   "source": [
    "### Inconsistant Gaussian Noise\n",
    "\n",
    "Due to limitations in the ability to mask out incoherent areas in interferograms, there can be splotchy blips of of static-like noise. In order to emulate this, two gaussian noise grids are generated. The threshold value is then used with one of the noise grids to determine what noise from the other can make it through. This means that the threshold value should be some fraction of the noise_level value. When the threshold equals the noise_level all noise is let through."
   ]
  },
  {
   "cell_type": "code",
   "execution_count": null,
   "metadata": {
    "colab": {
     "base_uri": "https://localhost:8080/",
     "height": 470
    },
    "id": "8Quuod2D043j",
    "outputId": "8de3b949-0c2c-46da-96a2-3fe1908fcf5a"
   },
   "outputs": [],
   "source": [
    "seed = 0\n",
    "tile_size = 512\n",
    "noise_level = np.pi\n",
    "threshold = np.pi / 8\n",
    "noise_grid = gen_gaussian_noise(\n",
    "    seed, tile_size, noise_level=noise_level, threshold=threshold\n",
    ")\n",
    "\n",
    "inc_gaussian_wrapped_grid = np.angle(np.exp(1j * (noise_grid)))\n",
    "\n",
    "display_two_images(noise_grid, inc_gaussian_wrapped_grid)"
   ]
  },
  {
   "cell_type": "markdown",
   "metadata": {
    "id": "d54DGP37043j"
   },
   "source": [
    "### Simulated Masked-out Areas of Incoherence"
   ]
  },
  {
   "cell_type": "code",
   "execution_count": null,
   "metadata": {
    "colab": {
     "base_uri": "https://localhost:8080/",
     "height": 470
    },
    "id": "-6M0Uyb4043k",
    "outputId": "fab264ed-287a-4e58-cfad-40127dac6866"
   },
   "outputs": [],
   "source": [
    "threshold = 0.2\n",
    "coherence_mask = coherence_mask_simulate(tile_size, threshold=threshold)\n",
    "coh_indices = coherence_mask[0, 0:tile_size, 0:tile_size] == 0\n",
    "\n",
    "phase_with_coh_mask = np.copy(phase)\n",
    "phase_with_coh_mask[coh_indices] = 0\n",
    "wrapped_with_coh_mask = np.angle(np.exp(1j * phase_with_coh_mask))\n",
    "\n",
    "display_two_images(phase_with_coh_mask, wrapped_with_coh_mask)"
   ]
  },
  {
   "cell_type": "markdown",
   "metadata": {
    "id": "xygiPdxg043k"
   },
   "source": [
    "### Turbulant Atmospheric Error"
   ]
  },
  {
   "cell_type": "code",
   "execution_count": null,
   "metadata": {
    "colab": {
     "base_uri": "https://localhost:8080/",
     "height": 470
    },
    "id": "2XJ7qJet043k",
    "outputId": "ce4b3289-19c1-4a78-e913-fe5e3faacb8f"
   },
   "outputs": [],
   "source": [
    "atmosphere_scalar = 100 * np.pi\n",
    "\n",
    "turb_phase = aps_simulate(tile_size) * atmosphere_scalar\n",
    "turb_event_phase = turb_phase + phase\n",
    "wrapped_turb_phase = np.angle(np.exp(1j * turb_event_phase))\n",
    "\n",
    "display_two_images(turb_event_phase, wrapped_turb_phase)"
   ]
  },
  {
   "cell_type": "markdown",
   "metadata": {
    "id": "0CdV-aj0043k"
   },
   "source": [
    "### Topographic Atmospheric Error"
   ]
  },
  {
   "cell_type": "code",
   "execution_count": null,
   "metadata": {
    "colab": {
     "base_uri": "https://localhost:8080/",
     "height": 470
    },
    "id": "krD_TBn5043l",
    "outputId": "6f1597b7-e6d6-4694-fb99-00e34f2b71f2"
   },
   "outputs": [],
   "source": [
    "atmospheric_scalar = 100 * np.pi\n",
    "\n",
    "simulated_topography = gen_fake_topo(size=tile_size)\n",
    "\n",
    "topo_phase = np.abs(atm_topo_simulate(simulated_topography) * atmosphere_scalar * np.pi)\n",
    "topo_event_phase = topo_phase + phase\n",
    "wrapped_topo_phase = np.angle(np.exp(1j * (topo_event_phase)))\n",
    "\n",
    "display_two_images(topo_event_phase, wrapped_topo_phase)"
   ]
  },
  {
   "cell_type": "markdown",
   "metadata": {
    "id": "y2YYvlmS7C6o"
   },
   "source": [
    "### Combining All Error Sources"
   ]
  },
  {
   "cell_type": "code",
   "execution_count": null,
   "metadata": {
    "colab": {
     "base_uri": "https://localhost:8080/",
     "height": 470
    },
    "id": "PDrE1GZg5MGQ",
    "outputId": "c32b766c-d24a-430e-99fa-cb5bab844928"
   },
   "outputs": [],
   "source": [
    "combined_error_phase = phase + topo_phase + turb_phase + noise_grid\n",
    "combined_error_wrapped_phase = np.angle(np.exp(1j * combined_error_phase))\n",
    "\n",
    "display_two_images(combined_error_phase, combined_error_wrapped_phase)"
   ]
  },
  {
   "cell_type": "markdown",
   "metadata": {
    "id": "k71FdRG23qIi"
   },
   "source": [
    "## Generating Training-Optimized Events\n",
    "\n",
    "Deep Learning models can be extremely robust, and they can learn from deep nuances in data. Like humans, deep learning algorithms learn much more effectively when information is presented in certain ways. This is especially true here! For example, if we allow any possible valid combination to be generated, we may be generating events which don't produce enough deformation to show through the background noise. At best, this would waste space and time, since the model has no information to learn from. At worst, the model could incorrectly learn to identify noise as an event due to the positive label that would be attached. Therefore, gen_simulated_deformation randomly selects parameters from ranges which properly highlight the most important features for identification purposes. Furthermore, a boundary between portions of events is added, and the wrapped images are normalized between 0 and 1.\n",
    "\n",
    "Events from gen_simulated_deformation are used as the ***positives*** for training purposes.\n",
    "\n",
    "Events can also be produced with user-provided kwargs if desired."
   ]
  },
  {
   "cell_type": "code",
   "execution_count": null,
   "metadata": {
    "id": "73ZrE0Ul8RKU"
   },
   "outputs": [],
   "source": [
    "seed = 123456\n",
    "tile_size = 512\n",
    "event_type = \"quake\"\n",
    "log = True"
   ]
  },
  {
   "cell_type": "markdown",
   "metadata": {
    "id": "ALneMF826v4u"
   },
   "source": [
    "#### With Kwargs\n",
    "\n",
    "Including our kwargs will create the event using the specified options. Please note that all of the dict keys need to be present when using kwargs. It is also important to note that there is randomly generated atmospheric noise, using an fft method; thus, if you want the same image every time, you need to use a seed."
   ]
  },
  {
   "cell_type": "code",
   "execution_count": null,
   "metadata": {
    "colab": {
     "base_uri": "https://localhost:8080/",
     "height": 778
    },
    "id": "8fc6NE7Q3h8Z",
    "outputId": "f43680ce-f9bb-4b98-a264-caffe02db7f0"
   },
   "outputs": [],
   "source": [
    "unwrapped, masked, wrapped, event_is_present = gen_simulated_deformation(\n",
    "    seed=seed, tile_size=tile_size, log=log, event_type=event_type, **kwargs\n",
    ")\n",
    "\n",
    "display_three_images(unwrapped, wrapped, masked)"
   ]
  },
  {
   "cell_type": "markdown",
   "metadata": {
    "id": "8YXev54C66cM"
   },
   "source": [
    "#### With Random Parameters\n",
    "\n",
    "The ranges for the randomly generated parameters do not cover all possible valid combinations; rather, they are set to reliably produce events that are suitible for eventnet's training."
   ]
  },
  {
   "cell_type": "code",
   "execution_count": null,
   "metadata": {
    "colab": {
     "base_uri": "https://localhost:8080/",
     "height": 778
    },
    "id": "KLG3lYB83omF",
    "outputId": "972424b7-1c63-46a9-de58-a2c26154d78d"
   },
   "outputs": [],
   "source": [
    "unwrapped, masked, wrapped, event_is_present = gen_simulated_deformation(\n",
    "    seed=seed,\n",
    "    tile_size=tile_size,\n",
    "    log=log,\n",
    "    event_type=event_type,\n",
    ")\n",
    "\n",
    "display_three_images(unwrapped, wrapped, masked)"
   ]
  },
  {
   "cell_type": "markdown",
   "metadata": {
    "id": "h0S05-p89w64"
   },
   "source": [
    "## Randomly Generating Training-Optimized Error\n",
    "\n",
    "Similar to the images with events, the ***negatives*** also benefit from curation. This is done using the gen_sim_noise function. "
   ]
  },
  {
   "cell_type": "code",
   "execution_count": null,
   "metadata": {
    "colab": {
     "base_uri": "https://localhost:8080/",
     "height": 343
    },
    "id": "zht8Xzkc580t",
    "outputId": "2edb411a-67c3-41c8-9671-32df0e46a012"
   },
   "outputs": [],
   "source": [
    "seed = 123456\n",
    "tile_size = 512\n",
    "gaussian_only = False  # If no atmospheric noise is desired.\n",
    "atmosphere_scalar = 200 * np.pi  # Again, the 'displacement' needs to be scaled.\n",
    "\n",
    "unwrapped, masked, wrapped, event_is_present = gen_sim_noise(\n",
    "    seed=seed, tile_size=tile_size, gaussian_only=False, atmosphere_scalar=200 * np.pi\n",
    ")\n",
    "\n",
    "print(\"Max, Min Noise Values: \", np.max(unwrapped), np.min(unwrapped))\n",
    "\n",
    "display_three_images(unwrapped, wrapped, masked)"
   ]
  },
  {
   "cell_type": "code",
   "execution_count": null,
   "metadata": {
    "id": "-FeAK5vcDkRl"
   },
   "outputs": [],
   "source": []
  }
 ],
 "metadata": {
  "colab": {
   "provenance": [],
   "toc_visible": true
  },
  "kernelspec": {
   "display_name": "base",
   "language": "python",
   "name": "python3"
  },
  "language_info": {
   "codemirror_mode": {
    "name": "ipython",
    "version": 3
   },
   "file_extension": ".py",
   "mimetype": "text/x-python",
   "name": "python",
   "nbconvert_exporter": "python",
   "pygments_lexer": "ipython3",
   "version": "3.10.6"
  },
  "vscode": {
   "interpreter": {
    "hash": "916dbcbb3f70747c44a77c7bcd40155683ae19c65e1c03b4aa3499c5328201f1"
   }
  }
 },
 "nbformat": 4,
 "nbformat_minor": 4
}
