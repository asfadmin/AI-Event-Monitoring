{
 "cells": [
  {
   "attachments": {},
   "cell_type": "markdown",
   "metadata": {},
   "source": [
    "## Get Download URLs from SARVIEWS\n",
    "\n",
    "In order to get a Download URL for a specific granule in SARVIEWS, you will need two things:\n",
    "1. usgs_event_id\n",
    "2. granule_name"
   ]
  },
  {
   "cell_type": "code",
   "execution_count": 59,
   "metadata": {},
   "outputs": [],
   "source": [
    "##Example usgs_event_id and granule_name\n",
    "\n",
    "usgs_event_id = 'ak20076877'\n",
    "granule_name  = 'S1AA_20180504T161046_20180528T161048_VVP024_INT80_G_weF_5E24'"
   ]
  },
  {
   "cell_type": "code",
   "execution_count": null,
   "metadata": {},
   "outputs": [],
   "source": [
    "usgs_event_id = input('USGS Event ID:')\n",
    "granule_name  = input('Granulate Name:')"
   ]
  },
  {
   "attachments": {},
   "cell_type": "markdown",
   "metadata": {},
   "source": [
    "First, you will need to make a GET request to https://gm3385dq6j.execute-api.us-west-2.amazonaws.com/events in order to retrieve a list of all of the events known to SARVIEWS. The response will be a list of the form:\n",
    "```json\n",
    "[\n",
    "    {\n",
    "        \"depth\": \"\",\n",
    "        \"description\": \"\",\n",
    "        \"event_date\": \"\",\n",
    "        \"event_id\": \"99\",\n",
    "        \"event_type\": \"quake\",\n",
    "        \"magnitude\": ,\n",
    "        \"processing_timeframe\": {\n",
    "            \"end\": \"\",\n",
    "            \"start\": \"\"\n",
    "        },\n",
    "        \"usgs_event_id\": \"ak20076877\",\n",
    "        \"wkt\": \"\"\n",
    "    },\n",
    "    ...\n",
    "]\n",
    "```"
   ]
  },
  {
   "cell_type": "code",
   "execution_count": null,
   "metadata": {},
   "outputs": [
    {
     "data": {
      "text/plain": [
       "200"
      ]
     },
     "execution_count": 60,
     "metadata": {},
     "output_type": "execute_result"
    }
   ],
   "source": [
    "import json\n",
    "import requests\n",
    "\n",
    "event_list_res = requests.get('https://gm3385dq6j.execute-api.us-west-2.amazonaws.com/events')\n",
    "\n",
    "event_list = event_list_res.json()\n",
    "event_obj  = next((item for item in event_list if item[\"usgs_event_id\"] == usgs_event_id), None)\n",
    "event_id   = event_obj['event_id']\n",
    "\n",
    "event_get_res = requests.get(f'https://gm3385dq6j.execute-api.us-west-2.amazonaws.com/events/{event_id}')\n",
    "\n",
    "event_get_list = event_get_res.json()\n",
    "event_obj      = next((item for item in event_get_list[\"products\"] if item[\"files\"][\"product_name\"][:-4] == granule_name), None)\n",
    "\n",
    "download_link = event_obj['files']['product_url']"
   ]
  },
  {
   "cell_type": "code",
   "execution_count": null,
   "metadata": {},
   "outputs": [],
   "source": [
    "from urllib.request import urlopen\n",
    "from io import BytesIO\n",
    "from zipfile import ZipFile\n",
    "\n",
    "with urlopen(\n",
    "        download_link\n",
    "    ) as response:\n",
    "        with ZipFile(BytesIO(response.read())) as file:\n",
    "            file.extractall()"
   ]
  }
 ],
 "metadata": {
  "kernelspec": {
   "display_name": "Python 3 (ipykernel)",
   "language": "python",
   "name": "python3"
  },
  "language_info": {
   "codemirror_mode": {
    "name": "ipython",
    "version": 3
   },
   "file_extension": ".py",
   "mimetype": "text/x-python",
   "name": "python",
   "nbconvert_exporter": "python",
   "pygments_lexer": "ipython3",
   "version": "3.8.10"
  }
 },
 "nbformat": 4,
 "nbformat_minor": 4
}
