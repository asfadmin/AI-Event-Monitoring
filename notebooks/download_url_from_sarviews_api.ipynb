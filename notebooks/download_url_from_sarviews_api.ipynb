{
 "cells": [
  {
   "cell_type": "markdown",
   "metadata": {},
   "source": [
    "## Get Download URLs from SARVIEWS\n",
    "\n",
    "In order to get a Download URL for a specific granule in SARVIEWS, you will need two things:\n",
    "1. usgs_event_id\n",
    "2. granule_name"
   ]
  },
  {
   "cell_type": "code",
   "execution_count": 1,
   "metadata": {},
   "outputs": [],
   "source": [
    "import os\n",
    "import json\n",
    "import requests"
   ]
  },
  {
   "cell_type": "code",
   "execution_count": 2,
   "metadata": {},
   "outputs": [],
   "source": [
    "usgs_event_id = 'us6000jrlp'\n",
    "granule_name  = 'S1AA_20230126T212437_20230219T212436_VVR024_INT80_G_weF_3603'\n",
    "product_name  = granule_name + '.zip'"
   ]
  },
  {
   "cell_type": "markdown",
   "metadata": {},
   "source": [
    "First, you will need to make a GET request to https://gm3385dq6j.execute-api.us-west-2.amazonaws.com/events in order to retrieve a list of all of the events known to SARVIEWS. The response will be a list of the form:\n",
    "```json\n",
    "[\n",
    "    {\n",
    "        \"depth\": \"\",\n",
    "        \"description\": \"\",\n",
    "        \"event_date\": \"\",\n",
    "        \"event_id\": \"99\",\n",
    "        \"event_type\": \"quake\",\n",
    "        \"magnitude\": ,\n",
    "        \"processing_timeframe\": {\n",
    "            \"end\": \"\",\n",
    "            \"start\": \"\"\n",
    "        },\n",
    "        \"usgs_event_id\": \"ak20076877\",\n",
    "        \"wkt\": \"\"\n",
    "    },\n",
    "    ...\n",
    "]\n",
    "```"
   ]
  },
  {
   "cell_type": "code",
   "execution_count": 3,
   "metadata": {},
   "outputs": [
    {
     "data": {
      "text/plain": [
       "200"
      ]
     },
     "execution_count": 3,
     "metadata": {},
     "output_type": "execute_result"
    }
   ],
   "source": [
    "event_list_res = requests.get('https://gm3385dq6j.execute-api.us-west-2.amazonaws.com/events')\n",
    "event_list_res.status_code"
   ]
  },
  {
   "cell_type": "markdown",
   "metadata": {},
   "source": [
    "Once we have the list of events, we can search through it to find the event with our desired usgs_event_id. Once we have the correct event, we can grab the event_id. This event_id is used as the query to find the list of downloadable products."
   ]
  },
  {
   "cell_type": "code",
   "execution_count": 4,
   "metadata": {},
   "outputs": [
    {
     "name": "stdout",
     "output_type": "stream",
     "text": [
      "913a4ab7-704e-4aca-b971-40706161848c\n"
     ]
    }
   ],
   "source": [
    "event_list = event_list_res.json()\n",
    "event_obj  = next((item for item in event_list if (\"usgs_event_id\" in item) and (item[\"usgs_event_id\"] == usgs_event_id)), None)\n",
    "event_id   = event_obj['event_id']\n",
    "print(event_id)"
   ]
  },
  {
   "cell_type": "markdown",
   "metadata": {},
   "source": [
    "Now that we have the event_id, we can make a GET request to https://gm3385dq6j.execute-api.us-west-2.amazonaws.com/events/{event_id}. This will respond all of the information associated with the event, including all of the products. The response will be of the form:\n",
    "```json\n",
    "{\n",
    "    \"depth\": \"\",\n",
    "    \"description\": \"\",\n",
    "    \"event_date\": \"\",\n",
    "    \"event_id\": \"99\",\n",
    "    \"event_type\": \"quake\",\n",
    "    \"magnitude\": 6.5,\n",
    "    \"processing_timeframe\": {\n",
    "        \"end\": \"\",\n",
    "        \"start\": \"\"\n",
    "    },\n",
    "    \"products\": [\n",
    "        {\n",
    "            \"event_id\": \"99\",\n",
    "            \"files\": {\n",
    "                \"browse_url\": \"\",\n",
    "                \"product_name\": \"S1AA_20180504T161046_20180528T161048_VVP024_INT80_G_weF_5E24.zip\",\n",
    "                \"product_size\": 214683242,\n",
    "                \"product_url\": \"https://.../..._5E24.zip\", <- DOWNLOAD LINK\n",
    "                \"thumbnail_url\": \"\"\n",
    "            },\n",
    "            \"granules\": [...],\n",
    "            \"job_type\": \"\",\n",
    "            \"processing_date\": \"\",\n",
    "            \"product_id\": \"\",\n",
    "            \"status_code\": \"\"\n",
    "        },\n",
    "        ...\n",
    "    ],\n",
    "    \"usgs_event_id\": \"ak20076877\",\n",
    "    \"wkt\": \"\"\n",
    "}\n",
    "```"
   ]
  },
  {
   "cell_type": "code",
   "execution_count": 5,
   "metadata": {},
   "outputs": [
    {
     "data": {
      "text/plain": [
       "200"
      ]
     },
     "execution_count": 5,
     "metadata": {},
     "output_type": "execute_result"
    }
   ],
   "source": [
    "event_get_res = requests.get(f'https://gm3385dq6j.execute-api.us-west-2.amazonaws.com/events/{event_id}')\n",
    "event_get_res.status_code"
   ]
  },
  {
   "cell_type": "markdown",
   "metadata": {},
   "source": [
    "Then, we can search through the response object's \"products\" for one whose \"files\" have a \"product_name\" that is the same as our desired granule name - sans the product_name's '.zip'."
   ]
  },
  {
   "cell_type": "code",
   "execution_count": 6,
   "metadata": {},
   "outputs": [],
   "source": [
    "event_get_list = event_get_res.json()\n",
    "event_obj      = next((item for item in event_get_list[\"products\"] if item[\"files\"][\"product_name\"] == product_name), None)"
   ]
  },
  {
   "cell_type": "markdown",
   "metadata": {},
   "source": [
    "Finally, we now have the correct product, and we can grab the \"product_url\" from \"files\" and use it to download the whole product."
   ]
  },
  {
   "cell_type": "code",
   "execution_count": 7,
   "metadata": {},
   "outputs": [
    {
     "name": "stdout",
     "output_type": "stream",
     "text": [
      "https://hyp3-event-monitoring-productbucket-1t80jdtrfscje.s3.amazonaws.com/913a4ab7-704e-4aca-b971-40706161848c/b750eaa2-09e7-4ffc-8055-6a54b84b7404/S1AA_20230126T212437_20230219T212436_VVR024_INT80_G_weF_3603.zip\n"
     ]
    }
   ],
   "source": [
    "print(product_url := event_obj['files']['product_url'])"
   ]
  },
  {
   "cell_type": "code",
   "execution_count": 8,
   "metadata": {
    "scrolled": true
   },
   "outputs": [
    {
     "name": "stdout",
     "output_type": "stream",
     "text": [
      "S1AA_20230126T212437_20230219T212436_VVR024_INT80_G_weF_3603.README.md.txt\n",
      "S1AA_20230126T212437_20230219T212436_VVR024_INT80_G_weF_3603.txt\n",
      "S1AA_20230126T212437_20230219T212436_VVR024_INT80_G_weF_3603_amp.tif\n",
      "S1AA_20230126T212437_20230219T212436_VVR024_INT80_G_weF_3603_amp.tif.xml\n",
      "S1AA_20230126T212437_20230219T212436_VVR024_INT80_G_weF_3603_color_phase.kmz\n",
      "S1AA_20230126T212437_20230219T212436_VVR024_INT80_G_weF_3603_color_phase.png\n",
      "S1AA_20230126T212437_20230219T212436_VVR024_INT80_G_weF_3603_color_phase.png.aux.xml\n",
      "S1AA_20230126T212437_20230219T212436_VVR024_INT80_G_weF_3603_color_phase.png.xml\n",
      "S1AA_20230126T212437_20230219T212436_VVR024_INT80_G_weF_3603_corr.tif\n",
      "S1AA_20230126T212437_20230219T212436_VVR024_INT80_G_weF_3603_corr.tif.xml\n",
      "S1AA_20230126T212437_20230219T212436_VVR024_INT80_G_weF_3603_lv_phi.tif\n",
      "S1AA_20230126T212437_20230219T212436_VVR024_INT80_G_weF_3603_lv_phi.tif.xml\n",
      "S1AA_20230126T212437_20230219T212436_VVR024_INT80_G_weF_3603_lv_theta.tif\n",
      "S1AA_20230126T212437_20230219T212436_VVR024_INT80_G_weF_3603_lv_theta.tif.xml\n",
      "S1AA_20230126T212437_20230219T212436_VVR024_INT80_G_weF_3603_unw_phase.kmz\n",
      "S1AA_20230126T212437_20230219T212436_VVR024_INT80_G_weF_3603_unw_phase.png\n",
      "S1AA_20230126T212437_20230219T212436_VVR024_INT80_G_weF_3603_unw_phase.png.aux.xml\n",
      "S1AA_20230126T212437_20230219T212436_VVR024_INT80_G_weF_3603_unw_phase.png.xml\n",
      "S1AA_20230126T212437_20230219T212436_VVR024_INT80_G_weF_3603_unw_phase.tif\n",
      "S1AA_20230126T212437_20230219T212436_VVR024_INT80_G_weF_3603_unw_phase.tif.xml\n",
      "S1AA_20230126T212437_20230219T212436_VVR024_INT80_G_weF_3603_water_mask.tif\n",
      "S1AA_20230126T212437_20230219T212436_VVR024_INT80_G_weF_3603_water_mask.tif.xml\n"
     ]
    },
    {
     "data": {
      "text/plain": [
       "0"
      ]
     },
     "execution_count": 8,
     "metadata": {},
     "output_type": "execute_result"
    }
   ],
   "source": [
    "os.system(f'wget --quiet {product_url}')\n",
    "os.system(f'unzip -qq {product_name}')\n",
    "os.system(f'ls {granule_name}')"
   ]
  },
  {
   "cell_type": "code",
   "execution_count": null,
   "metadata": {},
   "outputs": [],
   "source": []
  }
 ],
 "metadata": {
  "kernelspec": {
   "display_name": "Python 3 (ipykernel)",
   "language": "python",
   "name": "python3"
  },
  "language_info": {
   "codemirror_mode": {
    "name": "ipython",
    "version": 3
   },
   "file_extension": ".py",
   "mimetype": "text/x-python",
   "name": "python",
   "nbconvert_exporter": "python",
   "pygments_lexer": "ipython3",
   "version": "3.8.10"
  }
 },
 "nbformat": 4,
 "nbformat_minor": 4
}
