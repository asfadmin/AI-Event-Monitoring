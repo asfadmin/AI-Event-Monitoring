{
 "cells": [
  {
   "cell_type": "markdown",
   "id": "cd39311b-a797-45a2-abf5-c4c47b1ecebc",
   "metadata": {},
   "source": [
    "# Generate Masks for Time Series Data"
   ]
  },
  {
   "cell_type": "markdown",
   "id": "4b0dbced-3644-480c-9363-fa2e4a72d9dc",
   "metadata": {},
   "source": [
    "## Setup"
   ]
  },
  {
   "cell_type": "code",
   "execution_count": null,
   "id": "ffd96623-7a58-4cd1-9e32-287f129ff363",
   "metadata": {},
   "outputs": [
    {
     "ename": "",
     "evalue": "",
     "output_type": "error",
     "traceback": [
      "\u001b[1;31mThe kernel failed to start due to the missing module '_sqlite3'. Consider installing this module.\n",
      "\u001b[1;31mClick <a href='https://aka.ms/kernelFailuresMissingModule'>here</a> for more info."
     ]
    }
   ],
   "source": [
    "if \"NOTEBOOK_INITIATED_FLAG\" not in globals():\n",
    "    NOTEBOOK_INITIATED_FLAG = True\n",
    "    %cd ..\n",
    "    !pip3 install git+https://github.com/pvigier/perlin-numpy astropy geopy\n",
    "%pwd\n",
    "\n",
    "import h5py\n",
    "import os\n",
    "import numpy as np\n",
    "import matplotlib.pyplot as plt\n",
    "\n",
    "os.environ[\"TF_CPP_MIN_LOG_LEVEL\"] = \"3\"\n",
    "\n",
    "plt.rcParams[\"figure.figsize\"] = (16, 8)\n",
    "\n",
    "from tensorflow.keras.models import load_model\n",
    "from osgeo import gdal\n",
    "from PIL import Image\n",
    "from insar_eventnet.io import get_image_array\n",
    "from insar_eventnet.inference import mask_with_model, mask_simulated\n",
    "from insar_eventnet.sarsim import (\n",
    "    gen_simulated_deformation,\n",
    "    gen_sim_noise,\n",
    "    gen_simulated_time_series,\n",
    ")"
   ]
  },
  {
   "cell_type": "markdown",
   "id": "36e32486-0692-45cb-9003-8e5e3f7889db",
   "metadata": {},
   "source": [
    "## Load Data"
   ]
  },
  {
   "cell_type": "code",
   "execution_count": null,
   "id": "105f4848-7afb-4f1e-a9cf-0c6fa926deee",
   "metadata": {},
   "outputs": [
    {
     "ename": "",
     "evalue": "",
     "output_type": "error",
     "traceback": [
      "\u001b[1;31mThe kernel failed to start due to the missing module '_sqlite3'. Consider installing this module.\n",
      "\u001b[1;31mClick <a href='https://aka.ms/kernelFailuresMissingModule'>here</a> for more info."
     ]
    }
   ],
   "source": [
    "timeseries_filename = f\"notebooks/{input('path to timeseries h5 file: ')}\"\n",
    "unwrapped = h5py.File(timeseries_filename, \"r\").get(\"/timeseries\")[...]\n",
    "\n",
    "print(unwrapped[1].shape)"
   ]
  },
  {
   "cell_type": "markdown",
   "id": "26d852ea-310a-4be7-b843-d109c4848b37",
   "metadata": {},
   "source": [
    "## Show Data"
   ]
  },
  {
   "cell_type": "code",
   "execution_count": null,
   "id": "ba67d6b0-fb1b-450f-ad84-2dc100bc1bcf",
   "metadata": {
    "tags": []
   },
   "outputs": [
    {
     "ename": "",
     "evalue": "",
     "output_type": "error",
     "traceback": [
      "\u001b[1;31mThe kernel failed to start due to the missing module '_sqlite3'. Consider installing this module.\n",
      "\u001b[1;31mClick <a href='https://aka.ms/kernelFailuresMissingModule'>here</a> for more info."
     ]
    }
   ],
   "source": [
    "plt.imshow(unwrapped[1])"
   ]
  },
  {
   "cell_type": "code",
   "execution_count": null,
   "id": "b4f44f2e-7ee9-4563-bafd-e8447e36404b",
   "metadata": {},
   "outputs": [
    {
     "ename": "",
     "evalue": "",
     "output_type": "error",
     "traceback": [
      "\u001b[1;31mThe kernel failed to start due to the missing module '_sqlite3'. Consider installing this module.\n",
      "\u001b[1;31mClick <a href='https://aka.ms/kernelFailuresMissingModule'>here</a> for more info."
     ]
    }
   ],
   "source": [
    "plt.imshow(unwrapped[100])"
   ]
  },
  {
   "cell_type": "markdown",
   "id": "bd77c0a1-449e-40ec-8e0f-e6a43fdf5509",
   "metadata": {},
   "source": [
    "## Process Data"
   ]
  },
  {
   "cell_type": "code",
   "execution_count": null,
   "id": "477ca342-1fd1-4d7e-bce7-5d4ecdcb77fd",
   "metadata": {},
   "outputs": [
    {
     "ename": "",
     "evalue": "",
     "output_type": "error",
     "traceback": [
      "\u001b[1;31mThe kernel failed to start due to the missing module '_sqlite3'. Consider installing this module.\n",
      "\u001b[1;31mClick <a href='https://aka.ms/kernelFailuresMissingModule'>here</a> for more info."
     ]
    }
   ],
   "source": [
    "tile_size = 512\n",
    "crop_size = 512\n",
    "\n",
    "wrapped = np.angle(np.exp(1j * (unwrapped)))\n",
    "\n",
    "# Currently crops data to fit into model instead of tiling\n",
    "z, x, y = wrapped.shape\n",
    "wrapped = wrapped[:16, x // 2 - 256 : x // 2 + 256, y // 2 - 256 : y // 2 + 256]\n",
    "\n",
    "plt.imshow(wrapped[1])"
   ]
  },
  {
   "cell_type": "markdown",
   "id": "d4ed8bb3-9772-41de-a4ea-b0608dbaaec2",
   "metadata": {},
   "source": [
    "## Run Prediction"
   ]
  },
  {
   "cell_type": "code",
   "execution_count": null,
   "id": "43eab413-e91f-4c5b-83ce-bce984230d17",
   "metadata": {},
   "outputs": [
    {
     "ename": "",
     "evalue": "",
     "output_type": "error",
     "traceback": [
      "\u001b[1;31mThe kernel failed to start due to the missing module '_sqlite3'. Consider installing this module.\n",
      "\u001b[1;31mClick <a href='https://aka.ms/kernelFailuresMissingModule'>here</a> for more info."
     ]
    }
   ],
   "source": [
    "tile_size = 512\n",
    "crop_size = 512\n",
    "\n",
    "mask_model_path = \"notebooks/models/time_series_masking_model\"\n",
    "\n",
    "mask_model = load_model(mask_model_path)\n",
    "\n",
    "wrapped = wrapped.transpose(1, 2, 0)\n",
    "wrapped = wrapped.reshape((1, *wrapped.shape, 1))\n",
    "mask_pred = np.float32(mask_model.predict(wrapped))"
   ]
  },
  {
   "cell_type": "markdown",
   "id": "85b7329e-ab72-48a6-b4c6-89232203900d",
   "metadata": {},
   "source": [
    "## Process Mask"
   ]
  },
  {
   "cell_type": "code",
   "execution_count": null,
   "id": "391c70e7-c8e1-4e5d-ac33-1a03cd291a18",
   "metadata": {},
   "outputs": [
    {
     "ename": "",
     "evalue": "",
     "output_type": "error",
     "traceback": [
      "\u001b[1;31mThe kernel failed to start due to the missing module '_sqlite3'. Consider installing this module.\n",
      "\u001b[1;31mClick <a href='https://aka.ms/kernelFailuresMissingModule'>here</a> for more info."
     ]
    }
   ],
   "source": [
    "mask_accumulated = np.zeros((512, 512))\n",
    "for i in range(16):\n",
    "    mask_accumulated += mask_pred[0, :, :, i, 0]\n",
    "plt.imshow(np.angle(np.exp(1j * mask_accumulated)))\n",
    "\n",
    "mask = mask_accumulated\n",
    "mask[mask == 0] = 0\n",
    "mask[mask >= 0.5] = 1\n",
    "mask[mask < 0.5] = 0"
   ]
  },
  {
   "cell_type": "markdown",
   "id": "56d2c401-2e2f-4b39-a76c-56df77b21a32",
   "metadata": {},
   "source": [
    "## Plot Mask"
   ]
  },
  {
   "cell_type": "code",
   "execution_count": null,
   "id": "c75b018a-a5ac-4e9e-b598-da44deac7e52",
   "metadata": {},
   "outputs": [
    {
     "ename": "",
     "evalue": "",
     "output_type": "error",
     "traceback": [
      "\u001b[1;31mThe kernel failed to start due to the missing module '_sqlite3'. Consider installing this module.\n",
      "\u001b[1;31mClick <a href='https://aka.ms/kernelFailuresMissingModule'>here</a> for more info."
     ]
    }
   ],
   "source": [
    "plt.imshow(np.angle(np.exp(1j * mask)))"
   ]
  }
 ],
 "metadata": {
  "kernelspec": {
   "display_name": "Python 3.8.5 64-bit ('3.8.5')",
   "language": "python",
   "name": "python3"
  },
  "language_info": {
   "codemirror_mode": {
    "name": "ipython",
    "version": 3
   },
   "file_extension": ".py",
   "mimetype": "text/x-python",
   "name": "python",
   "nbconvert_exporter": "python",
   "pygments_lexer": "ipython3",
   "version": "3.8.5"
  },
  "vscode": {
   "interpreter": {
    "hash": "903838b93b990b4920c72054393fd139710a62356686c3bf5b4aeb8388656351"
   }
  }
 },
 "nbformat": 4,
 "nbformat_minor": 5
}
