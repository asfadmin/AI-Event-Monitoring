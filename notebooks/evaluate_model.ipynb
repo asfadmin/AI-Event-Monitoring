{
 "cells": [
  {
   "cell_type": "markdown",
   "metadata": {},
   "source": [
    "## Evaluate an EventNet Model"
   ]
  },
  {
   "cell_type": "markdown",
   "metadata": {},
   "source": [
    "### Imports"
   ]
  },
  {
   "cell_type": "code",
   "execution_count": null,
   "metadata": {
    "tags": []
   },
   "outputs": [],
   "source": [
    "import os\n",
    "import matplotlib.pyplot as plt\n",
    "\n",
    "os.environ[\"TF_CPP_MIN_LOG_LEVEL\"] = \"3\"\n",
    "\n",
    "plt.rcParams[\"figure.figsize\"] = (16, 8)\n",
    "\n",
    "from insar_eventnet import inference\n"
   ]
  },
  {
   "cell_type": "markdown",
   "metadata": {},
   "source": [
    "### Initialize Input Variables \n",
    "\n",
    "In order to evaluate the model, we need a dataset made up of real interferogram examples with positives containing deformation events, and negatives containing no deformation events. The test_model function expects the dataset to be a directory which contains two directories called \"Positives\" and \"Negatives\" which contain their respective wrapped or unwrapped tifs. The tifs should be named as they are from ASF's products.\n",
    "\n",
    "Example_Dataset_Directory:<br> \n",
    "&nbsp;&nbsp;Positives<br>\n",
    "&nbsp;&nbsp;&nbsp;&nbsp;<i>S1AA_20170313T015539_20170406T015540_VVP024_INT80_G_ueF_4F40_unw_phase.tif</i><br>\n",
    "&nbsp;&nbsp;&nbsp;&nbsp;<i>S1AA_20211113T141718_20211125T141717_VVP012_INT80_G_ueF_AE11_wrapped_phase.tif</i><br>\n",
    "&nbsp;&nbsp;Negatives<br>\n",
    "&nbsp;&nbsp;&nbsp;&nbsp;<i>S1AA_20180320T125653_20180401T125653_VVP012_INT80_G_ueF_E415_wrapped_phase.tif</i><br>\n",
    "&nbsp;&nbsp;&nbsp;&nbsp;<i>S1BB_20210911T032038_20210923T032038_VVP012_INT80_G_ueF_64CA_wrapped_phase.tif</i><br>"
   ]
  },
  {
   "cell_type": "code",
   "execution_count": null,
   "metadata": {},
   "outputs": [],
   "source": [
    "mask_model_path = \"models/masking_model\"\n",
    "pres_model_path = \"models/classification_model\"\n",
    "dataset_path = \"SAR_DATA/\"\n",
    "\n",
    "tile_size = 512\n",
    "crop_size = 512\n",
    "\n",
    "save_images = False\n",
    "output_dir = \"SAR_DATA/Masks\""
   ]
  },
  {
   "cell_type": "markdown",
   "metadata": {},
   "source": [
    "### Run Evaluation Function"
   ]
  },
  {
   "cell_type": "code",
   "execution_count": null,
   "metadata": {},
   "outputs": [],
   "source": [
    "inference.test_model(\n",
    "    mask_model_path,\n",
    "    pres_model_path,\n",
    "    dataset_path,\n",
    "    tile_size,\n",
    "    crop_size,\n",
    "    save_images,\n",
    "    output_dir,\n",
    ")"
   ]
  }
 ],
 "metadata": {
  "kernelspec": {
   "display_name": "rtc_analysis [conda env:.local-rtc_analysis]",
   "language": "python",
   "name": "conda-env-.local-rtc_analysis-py"
  },
  "language_info": {
   "codemirror_mode": {
    "name": "ipython",
    "version": 3
   },
   "file_extension": ".py",
   "mimetype": "text/x-python",
   "name": "python",
   "nbconvert_exporter": "python",
   "pygments_lexer": "ipython3",
   "version": "3.9.15"
  }
 },
 "nbformat": 4,
 "nbformat_minor": 4
}
