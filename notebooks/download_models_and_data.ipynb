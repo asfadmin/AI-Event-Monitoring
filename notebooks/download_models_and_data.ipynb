{
 "cells": [
  {
   "cell_type": "markdown",
   "id": "e4d3b999",
   "metadata": {},
   "source": [
    "### Download and Extract the Models"
   ]
  },
  {
   "cell_type": "code",
   "execution_count": null,
   "id": "8465723b",
   "metadata": {
    "tags": []
   },
   "outputs": [],
   "source": [
    "!wget --load-cookies /tmp/cookies.txt \"https://docs.google.com/uc?export=download&confirm=$(wget --quiet --save-cookies /tmp/cookies.txt --keep-session-cookies --no-check-certificate 'https://docs.google.com/uc?export=download&id=1l-uSIl8Ly2M_LZM7rZA3FPHa7J40h4ok' -O- | sed -rn 's/.*confirm=([0-9A-Za-z_]+).*/\\1\\n/p')&id=1l-uSIl8Ly2M_LZM7rZA3FPHa7J40h4ok\" -O models.zip && rm -rf /tmp/cookies.txt\n",
    "!unzip -o models.zip"
   ]
  },
  {
   "cell_type": "markdown",
   "id": "a59a8faf",
   "metadata": {
    "tags": []
   },
   "source": [
    "### Download and Extract the Evaluation Dataset"
   ]
  },
  {
   "cell_type": "code",
   "execution_count": null,
   "id": "0f49bae0",
   "metadata": {
    "tags": []
   },
   "outputs": [],
   "source": [
    "!wget https://eventnet-sar-data-fixed.s3.us-west-2.amazonaws.com/SAR_DATA_FIXED.zip -O SAR_DATA.zip\n",
    "!unzip -o SAR_DATA.zip"
   ]
  }
 ],
 "metadata": {
  "kernelspec": {
   "display_name": "base",
   "language": "python",
   "name": "python3"
  },
  "language_info": {
   "codemirror_mode": {
    "name": "ipython",
    "version": 3
   },
   "file_extension": ".py",
   "mimetype": "text/x-python",
   "name": "python",
   "nbconvert_exporter": "python",
   "pygments_lexer": "ipython3",
   "version": "3.10.6"
  }
 },
 "nbformat": 4,
 "nbformat_minor": 5
}
