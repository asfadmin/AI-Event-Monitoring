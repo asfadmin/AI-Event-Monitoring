{
 "cells": [
  {
   "cell_type": "markdown",
   "id": "e4d3b999",
   "metadata": {},
   "source": [
    "### Download and Extract the Models"
   ]
  },
  {
   "cell_type": "code",
   "execution_count": 2,
   "id": "8465723b",
   "metadata": {
    "tags": []
   },
   "outputs": [
    {
     "name": "stdout",
     "output_type": "stream",
     "text": [
      "--2024-03-11 14:04:28--  https://docs.google.com/uc?export=download&confirm=&id=1l-uSIl8Ly2M_LZM7rZA3FPHa7J40h4ok\n",
      "Resolving docs.google.com (docs.google.com)... 142.251.215.238, 2607:f8b0:400a:800::200e\n",
      "Connecting to docs.google.com (docs.google.com)|142.251.215.238|:443... connected.\n",
      "HTTP request sent, awaiting response... 303 See Other\n",
      "Location: https://drive.usercontent.google.com/download?id=1l-uSIl8Ly2M_LZM7rZA3FPHa7J40h4ok&export=download [following]\n",
      "--2024-03-11 14:04:28--  https://drive.usercontent.google.com/download?id=1l-uSIl8Ly2M_LZM7rZA3FPHa7J40h4ok&export=download\n",
      "Resolving drive.usercontent.google.com (drive.usercontent.google.com)... 142.251.215.225, 2607:f8b0:400a:800::2001\n",
      "Connecting to drive.usercontent.google.com (drive.usercontent.google.com)|142.251.215.225|:443... connected.\n",
      "HTTP request sent, awaiting response... 200 OK\n",
      "Length: 2422 (2.4K) [text/html]\n",
      "Saving to: ‘models.zip’\n",
      "\n",
      "models.zip          100%[===================>]   2.37K  --.-KB/s    in 0.001s  \n",
      "\n",
      "2024-03-11 14:04:29 (2.84 MB/s) - ‘models.zip’ saved [2422/2422]\n",
      "\n",
      "Archive:  models.zip\n",
      "  End-of-central-directory signature not found.  Either this file is not\n",
      "  a zipfile, or it constitutes one disk of a multi-part archive.  In the\n",
      "  latter case the central directory and zipfile comment will be found on\n",
      "  the last disk(s) of this archive.\n",
      "unzip:  cannot find zipfile directory in one of models.zip or\n",
      "        models.zip.zip, and cannot find models.zip.ZIP, period.\n"
     ]
    }
   ],
   "source": [
    "!wget --load-cookies /tmp/cookies.txt \"https://docs.google.com/uc?export=download&confirm=$(wget --quiet --save-cookies /tmp/cookies.txt --keep-session-cookies --no-check-certificate 'https://docs.google.com/uc?export=download&id=1l-uSIl8Ly2M_LZM7rZA3FPHa7J40h4ok' -O- | sed -rn 's/.*confirm=([0-9A-Za-z_]+).*/\\1\\n/p')&id=1l-uSIl8Ly2M_LZM7rZA3FPHa7J40h4ok\" -O models.zip && rm -rf /tmp/cookies.txt\n",
    "!unzip -o models.zip"
   ]
  },
  {
   "cell_type": "markdown",
   "id": "a59a8faf",
   "metadata": {
    "tags": []
   },
   "source": [
    "### Download and Extract the Evaluation Dataset"
   ]
  },
  {
   "cell_type": "code",
   "execution_count": 1,
   "id": "6a822831",
   "metadata": {},
   "outputs": [
    {
     "name": "stdout",
     "output_type": "stream",
     "text": [
      "--2024-03-11 14:04:06--  https://docs.google.com/uc?export=download&confirm=&id=1AUwMxS1wIdM9iQFrYI3B1fmdbyyTPq48\n",
      "Resolving docs.google.com (docs.google.com)... 142.251.215.238, 2607:f8b0:400a:800::200e\n",
      "Connecting to docs.google.com (docs.google.com)|142.251.215.238|:443... connected.\n",
      "HTTP request sent, awaiting response... 303 See Other\n",
      "Location: https://drive.usercontent.google.com/download?id=1AUwMxS1wIdM9iQFrYI3B1fmdbyyTPq48&export=download [following]\n",
      "--2024-03-11 14:04:06--  https://drive.usercontent.google.com/download?id=1AUwMxS1wIdM9iQFrYI3B1fmdbyyTPq48&export=download\n",
      "Resolving drive.usercontent.google.com (drive.usercontent.google.com)... 142.251.215.225, 2607:f8b0:400a:800::2001\n",
      "Connecting to drive.usercontent.google.com (drive.usercontent.google.com)|142.251.215.225|:443... connected.\n",
      "HTTP request sent, awaiting response... 302 Found\n",
      "Location: https://accounts.google.com/ServiceLogin?service=wise&passive=1209600&continue=https://drive.usercontent.google.com/download?id%3D1AUwMxS1wIdM9iQFrYI3B1fmdbyyTPq48%26export%3Ddownload&followup=https://drive.usercontent.google.com/download?id%3D1AUwMxS1wIdM9iQFrYI3B1fmdbyyTPq48%26export%3Ddownload [following]\n",
      "--2024-03-11 14:04:07--  https://accounts.google.com/ServiceLogin?service=wise&passive=1209600&continue=https://drive.usercontent.google.com/download?id%3D1AUwMxS1wIdM9iQFrYI3B1fmdbyyTPq48%26export%3Ddownload&followup=https://drive.usercontent.google.com/download?id%3D1AUwMxS1wIdM9iQFrYI3B1fmdbyyTPq48%26export%3Ddownload\n",
      "Resolving accounts.google.com (accounts.google.com)... 74.125.135.84, 2607:f8b0:400e:c05::54\n",
      "Connecting to accounts.google.com (accounts.google.com)|74.125.135.84|:443... connected.\n",
      "HTTP request sent, awaiting response... 302 Found\n",
      "Location: https://accounts.google.com/InteractiveLogin?continue=https://drive.usercontent.google.com/download?id%3D1AUwMxS1wIdM9iQFrYI3B1fmdbyyTPq48%26export%3Ddownload&followup=https://drive.usercontent.google.com/download?id%3D1AUwMxS1wIdM9iQFrYI3B1fmdbyyTPq48%26export%3Ddownload&passive=1209600&service=wise&ifkv=ATuJsjzhxj90nAfLvp1SKCvIHkbbJy2PLDeXSIgftqUi7kpTWewojj69GZINGqK88AeHHpT2c45MRQ [following]\n",
      "--2024-03-11 14:04:07--  https://accounts.google.com/InteractiveLogin?continue=https://drive.usercontent.google.com/download?id%3D1AUwMxS1wIdM9iQFrYI3B1fmdbyyTPq48%26export%3Ddownload&followup=https://drive.usercontent.google.com/download?id%3D1AUwMxS1wIdM9iQFrYI3B1fmdbyyTPq48%26export%3Ddownload&passive=1209600&service=wise&ifkv=ATuJsjzhxj90nAfLvp1SKCvIHkbbJy2PLDeXSIgftqUi7kpTWewojj69GZINGqK88AeHHpT2c45MRQ\n",
      "Reusing existing connection to accounts.google.com:443.\n",
      "HTTP request sent, awaiting response... 302 Moved Temporarily\n",
      "Location: https://accounts.google.com/v3/signin/identifier?continue=https%3A%2F%2Fdrive.usercontent.google.com%2Fdownload%3Fid%3D1AUwMxS1wIdM9iQFrYI3B1fmdbyyTPq48%26export%3Ddownload&followup=https%3A%2F%2Fdrive.usercontent.google.com%2Fdownload%3Fid%3D1AUwMxS1wIdM9iQFrYI3B1fmdbyyTPq48%26export%3Ddownload&ifkv=ATuJsjwtaRTw8uattE6eJp99KmCS7CSFNDEFeibNhX9y28l9KDfQknpC5EiSfpOHtIi7iDHN0uDOmw&passive=1209600&service=wise&flowName=WebLiteSignIn&flowEntry=ServiceLogin&dsh=S856163958%3A1710194647714255 [following]\n",
      "--2024-03-11 14:04:07--  https://accounts.google.com/v3/signin/identifier?continue=https%3A%2F%2Fdrive.usercontent.google.com%2Fdownload%3Fid%3D1AUwMxS1wIdM9iQFrYI3B1fmdbyyTPq48%26export%3Ddownload&followup=https%3A%2F%2Fdrive.usercontent.google.com%2Fdownload%3Fid%3D1AUwMxS1wIdM9iQFrYI3B1fmdbyyTPq48%26export%3Ddownload&ifkv=ATuJsjwtaRTw8uattE6eJp99KmCS7CSFNDEFeibNhX9y28l9KDfQknpC5EiSfpOHtIi7iDHN0uDOmw&passive=1209600&service=wise&flowName=WebLiteSignIn&flowEntry=ServiceLogin&dsh=S856163958%3A1710194647714255\n",
      "Reusing existing connection to accounts.google.com:443.\n",
      "HTTP request sent, awaiting response... 200 OK\n",
      "Length: unspecified [text/html]\n",
      "Saving to: ‘SAR_DATA.zip’\n",
      "\n",
      "SAR_DATA.zip            [  <=>               ] 165.09K   589KB/s    in 0.3s    \n",
      "\n",
      "2024-03-11 14:04:08 (589 KB/s) - ‘SAR_DATA.zip’ saved [169057]\n",
      "\n",
      "Archive:  SAR_DATA.zip\n",
      "  End-of-central-directory signature not found.  Either this file is not\n",
      "  a zipfile, or it constitutes one disk of a multi-part archive.  In the\n",
      "  latter case the central directory and zipfile comment will be found on\n",
      "  the last disk(s) of this archive.\n",
      "unzip:  cannot find zipfile directory in one of SAR_DATA.zip or\n",
      "        SAR_DATA.zip.zip, and cannot find SAR_DATA.zip.ZIP, period.\n"
     ]
    }
   ],
   "source": [
    "!wget --load-cookies /tmp/cookies.txt \"https://docs.google.com/uc?export=download&confirm=$(wget --quiet --save-cookies /tmp/cookies.txt --keep-session-cookies --no-check-certificate 'https://docs.google.com/uc?export=download&id=1AUwMxS1wIdM9iQFrYI3B1fmdbyyTPq48' -O- | sed -rn 's/.*confirm=([0-9A-Za-z_]+).*/\\1\\n/p')&id=1AUwMxS1wIdM9iQFrYI3B1fmdbyyTPq48\" -O SAR_DATA.zip && rm -rf /tmp/cookies.txt\n",
    "!unzip -o SAR_DATA.zip"
   ]
  }
 ],
 "metadata": {
  "kernelspec": {
   "display_name": "base",
   "language": "python",
   "name": "python3"
  },
  "language_info": {
   "codemirror_mode": {
    "name": "ipython",
    "version": 3
   },
   "file_extension": ".py",
   "mimetype": "text/x-python",
   "name": "python",
   "nbconvert_exporter": "python",
   "pygments_lexer": "ipython3",
   "version": "3.8.10"
  }
 },
 "nbformat": 4,
 "nbformat_minor": 5
}
