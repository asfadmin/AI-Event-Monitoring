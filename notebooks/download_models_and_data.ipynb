{
 "cells": [
  {
   "cell_type": "markdown",
   "metadata": {},
   "source": [
    "### Download and Extract the Models"
   ]
  },
  {
   "cell_type": "code",
   "execution_count": 1,
   "metadata": {},
   "outputs": [
    {
     "name": "stdout",
     "output_type": "stream",
     "text": [
      "fish: $(...) is not supported. In fish, please use '(wget)'.\n",
      "wget --load-cookies /tmp/cookies.txt \"https://docs.google.com/uc?export=download&confirm=$(wget --quiet --save-cookies /tmp/cookies.txt --keep-session-cookies --no-check-certificate 'https://docs.google.com/uc?export=download&id=1KAj2-SRc7grRmNH_Gk8pBLKoVYVOXI25' -O- | sed -rn 's/.*confirm=([0-9A-Za-z_]+).*/\\1\\n/p')&id=1KAj2-SRc7grRmNH_Gk8pBLKoVYVOXI25\" -O models.zip && rm -rf /tmp/cookies.txt\n",
      "                                                                                         ^\n",
      "unzip:  cannot find or open models.zip, models.zip.zip or models.zip.ZIP.\n"
     ]
    }
   ],
   "source": [
    "!wget --load-cookies /tmp/cookies.txt \"https://docs.google.com/uc?export=download&confirm=$(wget --quiet --save-cookies /tmp/cookies.txt --keep-session-cookies --no-check-certificate 'https://docs.google.com/uc?export=download&id=1l-uSIl8Ly2M_LZM7rZA3FPHa7J40h4ok' -O- | sed -rn 's/.*confirm=([0-9A-Za-z_]+).*/\\1\\n/p')&id=1l-uSIl8Ly2M_LZM7rZA3FPHa7J40h4ok\" -O models.zip && rm -rf /tmp/cookies.txt\n",
    "!unzip -o models.zip"
   ]
  },
  {
   "cell_type": "markdown",
   "metadata": {},
   "source": [
    "### Download and Extract the Evaluation Dataset"
   ]
  },
  {
   "cell_type": "code",
   "execution_count": 3,
   "metadata": {},
   "outputs": [
    {
     "name": "stdout",
     "output_type": "stream",
     "text": [
      "--2023-02-24 21:40:42--  https://docs.google.com/uc?export=download&confirm=t&id=1PMJS_6ulAnbq6vCBfFLfneQw0s6OoRGR\n",
      "Resolving docs.google.com (docs.google.com)... 142.250.69.206, 2607:f8b0:400a:80b::200e\n",
      "Connecting to docs.google.com (docs.google.com)|142.250.69.206|:443... connected.\n",
      "HTTP request sent, awaiting response... 303 See Other\n",
      "Location: https://doc-0g-68-docs.googleusercontent.com/docs/securesc/ha0ro937gcuc7l7deffksulhg5h7mbp1/5vkreumpukr39ftket0eitj05s4rt711/1677274800000/04875767609389172955/*/1PMJS_6ulAnbq6vCBfFLfneQw0s6OoRGR?e=download&uuid=8e015b9f-4d5f-45c5-8f17-3dbd56cf36aa [following]\n",
      "Warning: wildcards not supported in HTTP.\n",
      "--2023-02-24 21:40:42--  https://doc-0g-68-docs.googleusercontent.com/docs/securesc/ha0ro937gcuc7l7deffksulhg5h7mbp1/5vkreumpukr39ftket0eitj05s4rt711/1677274800000/04875767609389172955/*/1PMJS_6ulAnbq6vCBfFLfneQw0s6OoRGR?e=download&uuid=8e015b9f-4d5f-45c5-8f17-3dbd56cf36aa\n",
      "Resolving doc-0g-68-docs.googleusercontent.com (doc-0g-68-docs.googleusercontent.com)... 142.250.69.193, 2607:f8b0:400a:805::2001\n",
      "Connecting to doc-0g-68-docs.googleusercontent.com (doc-0g-68-docs.googleusercontent.com)|142.250.69.193|:443... connected.\n",
      "HTTP request sent, awaiting response... 200 OK\n",
      "Length: 4809804075 (4.5G) [application/x-zip-compressed]\n",
      "Saving to: ‘SAR_DATA.zip’\n",
      "\n",
      "SAR_DATA.zip        100%[===================>]   4.48G  99.4MB/s    in 54s     \n",
      "\n",
      "2023-02-24 21:41:37 (84.4 MB/s) - ‘SAR_DATA.zip’ saved [4809804075/4809804075]\n",
      "\n",
      "Archive:  SAR_DATA.zip\n",
      "warning [SAR_DATA.zip]:  514808007 extra bytes at beginning or within zipfile\n",
      "  (attempting to process anyway)\n",
      "error [SAR_DATA.zip]:  start of central directory not found;\n",
      "  zipfile corrupt.\n",
      "  (please check that you have transferred or created the zipfile in the\n",
      "  appropriate BINARY mode and that you have compiled UnZip properly)\n"
     ]
    }
   ],
   "source": [
    "!wget --load-cookies /tmp/cookies.txt \"https://docs.google.com/uc?export=download&confirm=$(wget --quiet --save-cookies /tmp/cookies.txt --keep-session-cookies --no-check-certificate 'https://docs.google.com/uc?export=download&id=1PMJS_6ulAnbq6vCBfFLfneQw0s6OoRGR' -O- | sed -rn 's/.*confirm=([0-9A-Za-z_]+).*/\\1\\n/p')&id=1PMJS_6ulAnbq6vCBfFLfneQw0s6OoRGR\" -O SAR_DATA.zip && rm -rf /tmp/cookies.txt\n",
    "!unzip -o SAR_DATA.zip"
   ]
  },
  {
   "cell_type": "code",
   "execution_count": 4,
   "metadata": {},
   "outputs": [
    {
     "name": "stdout",
     "output_type": "stream",
     "text": [
      "Archive:  SAR_DATA.zip\n",
      "warning [SAR_DATA.zip]:  514808007 extra bytes at beginning or within zipfile\n",
      "  (attempting to process anyway)\n",
      "error [SAR_DATA.zip]:  start of central directory not found;\n",
      "  zipfile corrupt.\n",
      "  (please check that you have transferred or created the zipfile in the\n",
      "  appropriate BINARY mode and that you have compiled UnZip properly)\n"
     ]
    }
   ],
   "source": [
    "!unzip -o SAR_DATA.zip"
   ]
  },
  {
   "cell_type": "code",
   "execution_count": null,
   "metadata": {},
   "outputs": [],
   "source": []
  }
 ],
 "metadata": {
  "kernelspec": {
   "display_name": "Python 3.8.5 64-bit ('3.8.5')",
   "language": "python",
   "name": "python3"
  },
  "language_info": {
   "codemirror_mode": {
    "name": "ipython",
    "version": 3
   },
   "file_extension": ".py",
   "mimetype": "text/x-python",
   "name": "python",
   "nbconvert_exporter": "python",
   "pygments_lexer": "ipython3",
   "version": "3.8.5"
  },
  "vscode": {
   "interpreter": {
    "hash": "903838b93b990b4920c72054393fd139710a62356686c3bf5b4aeb8388656351"
   }
  }
 },
 "nbformat": 4,
 "nbformat_minor": 5
}
