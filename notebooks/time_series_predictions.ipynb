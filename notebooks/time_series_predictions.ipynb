{
 "cells": [
  {
   "cell_type": "markdown",
   "metadata": {},
   "source": [
    "# Generate Masks for Time Series Deformation Events"
   ]
  },
  {
   "cell_type": "markdown",
   "metadata": {
    "tags": []
   },
   "source": [
    "## Setup"
   ]
  },
  {
   "cell_type": "code",
   "execution_count": 1,
   "metadata": {
    "tags": []
   },
   "outputs": [
    {
     "name": "stdout",
     "output_type": "stream",
     "text": [
      "/home/jovyan/AI-Event-Monitoring\n",
      "Collecting git+https://github.com/pvigier/perlin-numpy\n",
      "  Cloning https://github.com/pvigier/perlin-numpy to /tmp/pip-req-build-2s3k8o9d\n",
      "  Running command git clone --filter=blob:none --quiet https://github.com/pvigier/perlin-numpy /tmp/pip-req-build-2s3k8o9d\n",
      "  Resolved https://github.com/pvigier/perlin-numpy to commit 5e26837db14042e51166eb6cad4c0df2c1907016\n",
      "  Preparing metadata (setup.py) ... \u001b[?25ldone\n",
      "\u001b[?25hRequirement already satisfied: astropy in /home/jovyan/.local/envs/rtc_analysis/lib/python3.9/site-packages (5.3)\n",
      "Requirement already satisfied: geopy in /home/jovyan/.local/envs/rtc_analysis/lib/python3.9/site-packages (2.3.0)\n",
      "Requirement already satisfied: numpy>=1.15 in /home/jovyan/.local/envs/rtc_analysis/lib/python3.9/site-packages (from perlin-numpy==0.0.0) (1.24.3)\n",
      "Requirement already satisfied: pyerfa>=2.0 in /home/jovyan/.local/envs/rtc_analysis/lib/python3.9/site-packages (from astropy) (2.0.0.3)\n",
      "Requirement already satisfied: PyYAML>=3.13 in /home/jovyan/.local/envs/rtc_analysis/lib/python3.9/site-packages (from astropy) (6.0)\n",
      "Requirement already satisfied: packaging>=19.0 in /home/jovyan/.local/envs/rtc_analysis/lib/python3.9/site-packages (from astropy) (23.1)\n",
      "Requirement already satisfied: geographiclib<3,>=1.52 in /home/jovyan/.local/envs/rtc_analysis/lib/python3.9/site-packages (from geopy) (2.0)\n"
     ]
    },
    {
     "data": {
      "text/plain": [
       "'/home/jovyan/AI-Event-Monitoring'"
      ]
     },
     "execution_count": 1,
     "metadata": {},
     "output_type": "execute_result"
    }
   ],
   "source": [
    "if \"NOTEBOOK_INITIATED_FLAG\" not in globals():\n",
    "    NOTEBOOK_INITIATED_FLAG = True\n",
    "    %cd ..\n",
    "    !pip3 install git+https://github.com/pvigier/perlin-numpy astropy geopy\n",
    "%pwd"
   ]
  },
  {
   "cell_type": "code",
   "execution_count": 2,
   "metadata": {},
   "outputs": [],
   "source": [
    "import os\n",
    "import numpy as np\n",
    "import matplotlib.pyplot as plt\n",
    "\n",
    "os.environ[\"TF_CPP_MIN_LOG_LEVEL\"] = \"3\"\n",
    "\n",
    "plt.rcParams[\"figure.figsize\"] = (16, 8)\n",
    "\n",
    "from tensorflow.keras.models import load_model\n",
    "from osgeo import gdal\n",
    "from PIL import Image\n",
    "from insar_eventnet.io import get_image_array\n",
    "from insar_eventnet.inference import mask_with_model, mask_simulated\n",
    "from insar_eventnet.sarsim import (\n",
    "    gen_simulated_deformation,\n",
    "    gen_sim_noise,\n",
    "    gen_simulated_time_series,\n",
    ")"
   ]
  },
  {
   "cell_type": "code",
   "execution_count": 3,
   "metadata": {
    "tags": []
   },
   "outputs": [],
   "source": [
    "def plot_results(wrapped, mask, presence_mask):\n",
    "    _, [axs_wrapped, axs_mask, axs_presence_mask] = plt.subplots(1, 3)\n",
    "\n",
    "    axs_wrapped.set_title(\"Wrapped\")\n",
    "    axs_mask.set_title(\"Segmentation Mask\")\n",
    "    axs_presence_mask.set_title(\"Presence Mask\")\n",
    "\n",
    "    axs_wrapped.imshow(wrapped, origin=\"lower\", cmap=\"jet\")\n",
    "    axs_mask.imshow(mask, origin=\"lower\", cmap=\"jet\")\n",
    "    axs_presence_mask.imshow(presence_mask, origin=\"lower\", cmap=\"jet\")"
   ]
  },
  {
   "cell_type": "code",
   "execution_count": 4,
   "metadata": {
    "tags": []
   },
   "outputs": [],
   "source": [
    "def mask_simulated(\n",
    "    mask_model,\n",
    "    seed: int,\n",
    "    tile_size: int,\n",
    "    crop_size: int = 0,\n",
    "    verbose: bool = False,\n",
    "    noise_only: bool = False,\n",
    "    gaussian_only: bool = False,\n",
    "    zero_output: bool = False,\n",
    "    event_type: str = \"quake\",\n",
    "    tolerance: float = 0.7,\n",
    ") -> None:\n",
    "    \"\"\"\n",
    "    Predicts the event-mask on a synthetic wrapped interferogram and plots the results.\n",
    "\n",
    "    Parameters:\n",
    "    -----------\n",
    "    model_path : str\n",
    "        The path to the model that does the masking.\n",
    "    seed : int\n",
    "        A seed for the random functions. For the same seed, with all other values the same\n",
    "        as well, the interferogram generation will have the same results. If left at 0,\n",
    "        the results will be different every time.\n",
    "    tile_size : int\n",
    "        The dimensional size of the simulated interferograms to generate, this must match the\n",
    "        input shape of the model.\n",
    "    crop_size : int, Optional\n",
    "        If the models output shape is different than the input shape, this value needs to be\n",
    "        equal to the output shape.\n",
    "    use_sim : bool, Optional\n",
    "        Use simulated interferograms rather than synthetic interferograms\n",
    "\n",
    "    Returns:\n",
    "    --------\n",
    "    None\n",
    "    \"\"\"\n",
    "\n",
    "    n_interferograms = 16\n",
    "\n",
    "    if crop_size == 0:\n",
    "        crop_size = tile_size\n",
    "\n",
    "    if not noise_only:\n",
    "        phases, mask = gen_simulated_time_series(\n",
    "            n_interferograms=n_interferograms,\n",
    "            seed=seed,\n",
    "            tile_size=tile_size,\n",
    "            noise_only=False,\n",
    "        )\n",
    "    else:\n",
    "        phases, mask = gen_simulated_time_series(\n",
    "            n_interferograms=n_interferograms,\n",
    "            seed=seed,\n",
    "            tile_size=tile_size,\n",
    "            noise_only=True,\n",
    "        )\n",
    "\n",
    "    input_phases = phases[:, 0, :, :]\n",
    "\n",
    "    print(mask.shape)\n",
    "\n",
    "    wrapped = input_phases.transpose().swapaxes(0, 1)\n",
    "    wrapped = wrapped.reshape((1, *wrapped.shape, 1))\n",
    "    mask_pred = np.float32(mask_model.predict(wrapped))\n",
    "\n",
    "    return input_phases, mask, mask_pred"
   ]
  },
  {
   "cell_type": "markdown",
   "metadata": {},
   "source": [
    "## Generate Mask"
   ]
  },
  {
   "cell_type": "code",
   "execution_count": null,
   "metadata": {
    "scrolled": true,
    "tags": []
   },
   "outputs": [
    {
     "name": "stdout",
     "output_type": "stream",
     "text": [
      "WARNING:tensorflow:Mixed precision compatibility check (mixed_float16): WARNING\n",
      "The dtype policy mixed_float16 may run slowly because this machine does not have a GPU. Only Nvidia GPUs with compute capability of at least 7.0 run quickly with mixed_float16.\n",
      "If you will use compatible GPU(s) not attached to this host, e.g. by running a multi-worker model, you can ignore this warning. This message will only be logged once\n",
      "(512, 512)\n"
     ]
    }
   ],
   "source": [
    "tile_size = 512\n",
    "crop_size = 512\n",
    "\n",
    "mask_model_path = \"notebooks/models/time_series_masking_model\"\n",
    "\n",
    "mask_model = load_model(mask_model_path)\n",
    "\n",
    "wrapped, mask, mask_pred = mask_simulated(mask_model, seed=0, tile_size=512)"
   ]
  },
  {
   "cell_type": "markdown",
   "metadata": {},
   "source": [
    "## Plot Predicted Mask"
   ]
  },
  {
   "cell_type": "code",
   "execution_count": null,
   "metadata": {},
   "outputs": [],
   "source": [
    "mask_accumulated = np.zeros((512, 512))\n",
    "for i in range(16):\n",
    "    mask_accumulated += mask_pred[0, :, :, i, 0]\n",
    "plt.imshow(np.angle(np.exp(1j * mask_accumulated)))"
   ]
  },
  {
   "cell_type": "markdown",
   "metadata": {},
   "source": [
    "## Plot wrapped image"
   ]
  },
  {
   "cell_type": "code",
   "execution_count": null,
   "metadata": {},
   "outputs": [],
   "source": [
    "wrapped_copy = wrapped.transpose().swapaxes(0, 1)\n",
    "wrapped_copy = wrapped_copy.reshape((1, *wrapped_copy.shape, 1))\n",
    "\n",
    "print(wrapped_copy.shape)\n",
    "\n",
    "arr = np.zeros((512, 512))\n",
    "for i in range(16):\n",
    "    arr += wrapped_copy[0, :, :, i, 0]\n",
    "\n",
    "plt.imshow(np.angle(np.exp(1j * arr)))"
   ]
  },
  {
   "cell_type": "markdown",
   "metadata": {},
   "source": [
    "## Plot Mask"
   ]
  },
  {
   "cell_type": "code",
   "execution_count": null,
   "metadata": {},
   "outputs": [],
   "source": [
    "plt.imshow(mask)"
   ]
  },
  {
   "cell_type": "code",
   "execution_count": null,
   "metadata": {},
   "outputs": [],
   "source": []
  }
 ],
 "metadata": {
  "kernelspec": {
   "display_name": "Python 3.8.5 64-bit ('3.8.5')",
   "language": "python",
   "name": "python3"
  },
  "language_info": {
   "codemirror_mode": {
    "name": "ipython",
    "version": 3
   },
   "file_extension": ".py",
   "mimetype": "text/x-python",
   "name": "python",
   "nbconvert_exporter": "python",
   "pygments_lexer": "ipython3",
   "version": "3.8.5"
  },
  "vscode": {
   "interpreter": {
    "hash": "903838b93b990b4920c72054393fd139710a62356686c3bf5b4aeb8388656351"
   }
  }
 },
 "nbformat": 4,
 "nbformat_minor": 4
}
